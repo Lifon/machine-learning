{
  "nbformat": 4,
  "nbformat_minor": 0,
  "metadata": {
    "colab": {
      "name": "Untitled3.ipynb",
      "provenance": [],
      "authorship_tag": "ABX9TyMOF+6qCadzaCF/N9xcFATV",
      "include_colab_link": true
    },
    "kernelspec": {
      "name": "python3",
      "display_name": "Python 3"
    }
  },
  "cells": [
    {
      "cell_type": "markdown",
      "metadata": {
        "id": "view-in-github",
        "colab_type": "text"
      },
      "source": [
        "<a href=\"https://colab.research.google.com/github/Lifon/machine-learning/blob/master/basic1.ipynb\" target=\"_parent\"><img src=\"https://colab.research.google.com/assets/colab-badge.svg\" alt=\"Open In Colab\"/></a>"
      ]
    },
    {
      "cell_type": "code",
      "metadata": {
        "id": "fE0oYpdV4sEX",
        "colab_type": "code",
        "outputId": "db0d8661-a8f6-4211-a92d-187e0425a18f",
        "colab": {
          "base_uri": "https://localhost:8080/",
          "height": 151
        }
      },
      "source": [
        "print(\"Assalamualikum\")\n",
        "print(\"Salam\")\n",
        "a= 10\n",
        "course_name = \"Object Oriented Programming with python\"\n",
        "print(a)\n",
        "print(course_name)\n",
        "\n",
        "multi_line = \"\"\"Welcome to UITS \n",
        "Welcome to IT\n",
        "Welcome to OOP2\"\"\"\n",
        "print(multi_line)\n",
        "\n",
        "list_example = [\"Test\",1,10,11,114,214]\n",
        "print(list_example[1:4])"
      ],
      "execution_count": 14,
      "outputs": [
        {
          "output_type": "stream",
          "text": [
            "Assalamualikum\n",
            "Salam\n",
            "10\n",
            "Object Oriented Programming with python\n",
            "Welcome to UITS \n",
            "Welcome to IT\n",
            "Welcome to OOP2\n",
            "[1, 10, 11]\n"
          ],
          "name": "stdout"
        }
      ]
    }
  ]
}