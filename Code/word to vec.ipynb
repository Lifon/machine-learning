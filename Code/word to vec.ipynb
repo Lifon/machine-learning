{
  "nbformat": 4,
  "nbformat_minor": 0,
  "metadata": {
    "colab": {
      "name": "Untitled0.ipynb",
      "provenance": [],
      "include_colab_link": true
    },
    "kernelspec": {
      "name": "python3",
      "display_name": "Python 3"
    }
  },
  "cells": [
    {
      "cell_type": "markdown",
      "metadata": {
        "id": "view-in-github",
        "colab_type": "text"
      },
      "source": [
        "<a href=\"https://colab.research.google.com/github/Lifon/machine-learning/blob/master/Code/word%20to%20vec.ipynb\" target=\"_parent\"><img src=\"https://colab.research.google.com/assets/colab-badge.svg\" alt=\"Open In Colab\"/></a>"
      ]
    },
    {
      "cell_type": "code",
      "metadata": {
        "id": "7HtuF0HTPwV-",
        "colab_type": "code",
        "colab": {}
      },
      "source": [
        "from gensim.models import Word2Vec\n",
        "from gensim.models import KeyedVectors\n",
        "#PCA for dimensionality reduction\n",
        "from sklearn.decomposition import PCA\n",
        "#To plot the result\n",
        "from matplotlib import pyplot\n",
        "%matplotlib inline\n",
        "\n",
        "# define training data\n",
        "sentences = [['this', 'is', 'the', 'first', 'sentence', 'for', 'word2vec'],\n",
        "            ['this', 'is', 'the', 'second', 'sentence'],\n",
        "            ['yet', 'another', 'sentence'],\n",
        "            ['one', 'more', 'sentence'],\n",
        "            ['and', 'the', 'final', 'sentence']]\n",
        "model_1 = Word2Vec(size=300,min_count=1)"
      ],
      "execution_count": 0,
      "outputs": []
    },
    {
      "cell_type": "code",
      "metadata": {
        "id": "lRf_t9NFVD1Y",
        "colab_type": "code",
        "colab": {}
      },
      "source": [
        ""
      ],
      "execution_count": 0,
      "outputs": []
    }
  ]
}