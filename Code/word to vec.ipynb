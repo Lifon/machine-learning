{
  "nbformat": 4,
  "nbformat_minor": 0,
  "metadata": {
    "colab": {
      "name": "Untitled0.ipynb",
      "provenance": [],
      "include_colab_link": true
    },
    "kernelspec": {
      "name": "python3",
      "display_name": "Python 3"
    }
  },
  "cells": [
    {
      "cell_type": "markdown",
      "metadata": {
        "id": "view-in-github",
        "colab_type": "text"
      },
      "source": [
        "<a href=\"https://colab.research.google.com/github/Lifon/machine-learning/blob/master/Code/word%20to%20vec.ipynb\" target=\"_parent\"><img src=\"https://colab.research.google.com/assets/colab-badge.svg\" alt=\"Open In Colab\"/></a>"
      ]
    },
    {
      "cell_type": "code",
      "metadata": {
        "id": "7HtuF0HTPwV-",
        "colab_type": "code",
        "outputId": "d3f2ccea-8c1c-499c-940a-63c99c802484",
        "colab": {
          "base_uri": "https://localhost:8080/",
          "height": 322
        }
      },
      "source": [
        "from gensim.models import Word2Vec\n",
        "from gensim.models import KeyedVectors\n",
        "#PCA for dimensionality reduction\n",
        "from sklearn.decomposition import PCA\n",
        "#To plot the result\n",
        "from matplotlib import pyplot\n",
        "%matplotlib inline\n",
        "\n",
        "# define training data\n",
        "sentences = [['this', 'is', 'the', 'first', 'sentence', 'for', 'word2vec'],\n",
        "            ['this', 'is', 'the', 'second', 'sentence'],\n",
        "            ['yet', 'another', 'sentence'],\n",
        "            ['one', 'more', 'sentence'],\n",
        "            ['and', 'the', 'final', 'sentence']]\n",
        "model_1 = Word2Vec(size=300,min_count=1)\n",
        "#feeding corpus\n",
        "model_1.build_vocab(sentences)\n",
        "total_examples = model_1.corpus_count\n",
        "print(total_examples)\n",
        "model_1.train(sentences,total_examples=total_examples,epochs=model_1.epochs)\n",
        "x = model_1[model_1.wv.vocab]\n",
        "pca = PCA(n_components=2)\n",
        "result = pca.fit_transform(x)\n",
        "pyplot.scatter(result[:,0],result[:,1])\n",
        "words = list(model_1.wv.vocab)\n",
        "for i,word in enumerate(words):\n",
        "  pyplot.annotate(word,xy=(result[i,0],result[i,1]))\n",
        "pyplot.show()"
      ],
      "execution_count": 16,
      "outputs": [
        {
          "output_type": "stream",
          "text": [
            "5\n"
          ],
          "name": "stdout"
        },
        {
          "output_type": "stream",
          "text": [
            "/usr/local/lib/python3.6/dist-packages/ipykernel_launcher.py:21: DeprecationWarning: Call to deprecated `__getitem__` (Method will be removed in 4.0.0, use self.wv.__getitem__() instead).\n"
          ],
          "name": "stderr"
        },
        {
          "output_type": "display_data",
          "data": {
            "image/png": "[encoded data removed]",
            "text/plain": [
              "<Figure size 432x288 with 1 Axes>"
            ]
          },
          "metadata": {
            "tags": []
          }
        }
      ]
    },
    {
      "cell_type": "code",
      "metadata": {
        "id": "lRf_t9NFVD1Y",
        "colab_type": "code",
        "colab": {}
      },
      "source": [
        ""
      ],
      "execution_count": 0,
      "outputs": []
    }
  ]
}